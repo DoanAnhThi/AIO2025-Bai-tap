{
 "cells": [
  {
   "cell_type": "markdown",
   "metadata": {},
   "source": [
    "TẢI VỀ BỘ DỮ LIỆU"
   ]
  },
  {
   "cell_type": "code",
   "execution_count": 3,
   "metadata": {},
   "outputs": [],
   "source": [
    "# Import libs\n",
    "import os\n",
    "import random\n",
    "import numpy as np\n",
    "\n",
    "import torch\n",
    "import torch.nn as nn\n",
    "import torch.optim as optim\n",
    "import torch.nn.functional as F\n",
    "import torch.utils.data as data\n",
    "\n",
    "import torchvision.transforms as transforms\n",
    "import torchvision.datasets as datasets\n",
    "\n",
    "from torchsummary import summary\n",
    "\n",
    "import matplotlib.pyplot as plt\n",
    "from PIL import Image\n"
   ]
  },
  {
   "cell_type": "code",
   "execution_count": 4,
   "metadata": {},
   "outputs": [],
   "source": [
    "\n",
    "ROOT = './data'\n",
    "train_data = datasets.MNIST(\n",
    "    root=ROOT ,\n",
    "    train=True ,\n",
    "    download=True\n",
    "    )\n",
    "test_data = datasets.MNIST(\n",
    "    root=ROOT ,\n",
    "    train=False ,\n",
    "    download=True\n",
    "    )"
   ]
  },
  {
   "cell_type": "markdown",
   "metadata": {},
   "source": [
    "TIỀN XỬ LÝ DỮ LIỆU"
   ]
  },
  {
   "cell_type": "code",
   "execution_count": 5,
   "metadata": {},
   "outputs": [],
   "source": [
    "# split training: validation = 0.9 : 0.1\n",
    "VALID_RATIO = 0.9\n",
    "\n",
    "n_train_examples = int(len(train_data) * VALID_RATIO)\n",
    "n_valid_examples = len(train_data) - n_train_examples\n",
    "\n",
    "train_data , valid_data = data.random_split(\n",
    "train_data ,\n",
    "[n_train_examples , n_valid_examples]\n",
    ")\n",
    "\n",
    "# compute mean and std for normalization\n",
    "mean = train_data.dataset.data.float().mean() / 255\n",
    "std = train_data.dataset.data.float().std() / 255\n",
    "\n",
    "train_transforms = transforms.Compose ([\n",
    "transforms.ToTensor (),\n",
    "transforms.Normalize(mean=[mean], std=[std])\n",
    "])\n",
    "test_transforms = transforms.Compose ([\n",
    "transforms.ToTensor (),\n",
    "transforms.Normalize(mean=[mean], std=[std])\n",
    "])\n",
    "\n",
    "train_data.dataset.transform = train_transforms\n",
    "valid_data.dataset.transform = test_transforms\n",
    "\n",
    "# Create dataloader\n",
    "\n",
    "BATCH_SIZE = 256\n",
    "\n",
    "train_dataloader = data.DataLoader(\n",
    "train_data ,\n",
    "shuffle=True ,\n",
    "batch_size=BATCH_SIZE\n",
    ")\n",
    "\n",
    "valid_dataloader = data.DataLoader(\n",
    "valid_data ,\n",
    "batch_size=BATCH_SIZE\n",
    ")"
   ]
  },
  {
   "cell_type": "markdown",
   "metadata": {},
   "source": [
    "XÂY DỰNG MÔ HÌNH LeNet"
   ]
  },
  {
   "cell_type": "code",
   "execution_count": 6,
   "metadata": {},
   "outputs": [],
   "source": [
    "class LeNetClassifier(nn.Module):\n",
    "    def __init__(self , num_classes):\n",
    "        super().__init__ ()\n",
    "        self.conv1 = nn.Conv2d(\n",
    "            in_channels =1, out_channels =6, kernel_size =5, padding='same'\n",
    "        )\n",
    "        self.avgpool1 = nn.AvgPool2d(kernel_size =2)\n",
    "        self.conv2 = nn.Conv2d(in_channels =6, out_channels =16, kernel_size =5)\n",
    "        self.avgpool2 = nn.AvgPool2d(kernel_size =2)\n",
    "        self.flatten = nn.Flatten ()\n",
    "        self.fc_1 = nn.Linear (16 * 5 * 5, 120)\n",
    "        self.fc_2 = nn.Linear (120, 84)\n",
    "        self.fc_3 = nn.Linear (84, num_classes)\n",
    "\n",
    "    def forward(self , inputs):\n",
    "        outputs = self.conv1(inputs)\n",
    "        outputs = self.avgpool1(outputs)\n",
    "        outputs = F.relu(outputs)\n",
    "        outputs = self.conv2(outputs)\n",
    "        outputs = self.avgpool2(outputs)\n",
    "        outputs = F.relu(outputs)\n",
    "        outputs = self.flatten(outputs)\n",
    "        outputs = self.fc_1(outputs)\n",
    "        outputs = self.fc_2(outputs)\n",
    "        outputs = self.fc_3(outputs)\n",
    "        return outputs"
   ]
  },
  {
   "cell_type": "markdown",
   "metadata": {},
   "source": [
    "HUẤN LUYỆN MÔ HÌNH"
   ]
  },
  {
   "cell_type": "code",
   "execution_count": 7,
   "metadata": {},
   "outputs": [],
   "source": [
    "# Training function\n",
    "def train(model , optimizer , criterion , train_dataloader , device , epoch=0, log_interval=50):\n",
    "    model.train()\n",
    "    total_acc , total_count = 0, 0\n",
    "    losses = []\n",
    "    start_time = time.time()\n",
    "\n",
    "    for idx , (inputs , labels) in enumerate(train_dataloader):\n",
    "        inputs = inputs.to(device)\n",
    "        labels = labels.to(device)\n",
    "\n",
    "        optimizer.zero_grad ()\n",
    "\n",
    "        predictions = model(inputs)\n",
    "\n",
    "        # compute loss\n",
    "        loss = criterion(predictions , labels)\n",
    "        losses.append(loss.item())\n",
    "\n",
    "        # backward\n",
    "        loss.backward ()\n",
    "        torch.nn.utils.clip_grad_norm_(model.parameters (), 0.1)\n",
    "        optimizer.step()\n",
    "        total_acc += (predictions.argmax (1) == labels).sum().item()\n",
    "        total_count += labels.size (0)\n",
    "        if idx % log_interval == 0 and idx > 0:\n",
    "            elapsed = time.time() - start_time\n",
    "            print(\n",
    "                \"| epoch {:3d} | {:5d}/{:5d} batches \"\n",
    "                \"| accuracy {:8.3f}\".format(\n",
    "                    epoch , idx , len(train_dataloader), total_acc / total_count\n",
    "                )\n",
    "            )\n",
    "            total_acc , total_count = 0, 0\n",
    "            start_time = time.time()\n",
    "\n",
    "    epoch_acc = total_acc / total_count\n",
    "    epoch_loss = sum(losses) / len(losses)\n",
    "    return epoch_acc , epoch_loss\n",
    "\n",
    "# Evaluation function\n",
    "def evaluate(model , criterion , valid_dataloader):\n",
    "    model.eval()\n",
    "    total_acc , total_count = 0, 0\n",
    "    losses = []\n",
    "\n",
    "    with torch.no_grad ():\n",
    "        for idx , (inputs , labels) in enumerate(valid_dataloader):\n",
    "            inputs = inputs.to(device)\n",
    "            labels = labels.to(device)\n",
    "\n",
    "            predictions = model(inputs)\n",
    "\n",
    "            loss = criterion(predictions , labels)\n",
    "            losses.append(loss.item())\n",
    "\n",
    "            total_acc += (predictions.argmax (1) == labels).sum().item()\n",
    "            total_count += labels.size (0)\n",
    "\n",
    "    epoch_acc = total_acc / total_count\n",
    "    epoch_loss = sum(losses) / len(losses)\n",
    "    return epoch_acc , epoch_loss"
   ]
  },
  {
   "cell_type": "markdown",
   "metadata": {},
   "source": [
    "TRAINING"
   ]
  },
  {
   "cell_type": "code",
   "execution_count": 10,
   "metadata": {},
   "outputs": [],
   "source": [
    "import time"
   ]
  },
  {
   "cell_type": "code",
   "execution_count": 11,
   "metadata": {},
   "outputs": [
    {
     "name": "stdout",
     "output_type": "stream",
     "text": [
      "| epoch   1 |    50/  211 batches | accuracy    0.662\n",
      "| epoch   1 |   100/  211 batches | accuracy    0.886\n",
      "| epoch   1 |   150/  211 batches | accuracy    0.924\n",
      "| epoch   1 |   200/  211 batches | accuracy    0.944\n",
      "-----------------------------------------------------------\n",
      "| End of epoch   1 | Time: 18.45s | Train Accuracy    0.950 | Train Loss   0.497 | Valid Accuracy    0.956 | Valid Loss    0.155 \n",
      "-----------------------------------------------------------\n"
     ]
    },
    {
     "name": "stderr",
     "output_type": "stream",
     "text": [
      "C:\\Users\\binca\\AppData\\Local\\Temp\\ipykernel_3460\\3269069514.py:45: FutureWarning: You are using `torch.load` with `weights_only=False` (the current default value), which uses the default pickle module implicitly. It is possible to construct malicious pickle data which will execute arbitrary code during unpickling (See https://github.com/pytorch/pytorch/blob/main/SECURITY.md#untrusted-models for more details). In a future release, the default value for `weights_only` will be flipped to `True`. This limits the functions that could be executed during unpickling. Arbitrary objects will no longer be allowed to be loaded via this mode unless they are explicitly allowlisted by the user via `torch.serialization.add_safe_globals`. We recommend you start setting `weights_only=True` for any use case where you don't have full control of the loaded file. Please open an issue on GitHub for any issues related to this experimental feature.\n",
      "  lenet_model.load_state_dict(torch.load(save_model + '/lenet_model.pt'))\n"
     ]
    },
    {
     "name": "stdout",
     "output_type": "stream",
     "text": [
      "| epoch   2 |    50/  211 batches | accuracy    0.958\n",
      "| epoch   2 |   100/  211 batches | accuracy    0.965\n",
      "| epoch   2 |   150/  211 batches | accuracy    0.972\n",
      "| epoch   2 |   200/  211 batches | accuracy    0.969\n",
      "-----------------------------------------------------------\n",
      "| End of epoch   2 | Time: 20.24s | Train Accuracy    0.973 | Train Loss   0.112 | Valid Accuracy    0.972 | Valid Loss    0.089 \n",
      "-----------------------------------------------------------\n",
      "| epoch   3 |    50/  211 batches | accuracy    0.974\n",
      "| epoch   3 |   100/  211 batches | accuracy    0.975\n",
      "| epoch   3 |   150/  211 batches | accuracy    0.973\n",
      "| epoch   3 |   200/  211 batches | accuracy    0.978\n",
      "-----------------------------------------------------------\n",
      "| End of epoch   3 | Time: 60.32s | Train Accuracy    0.976 | Train Loss   0.080 | Valid Accuracy    0.977 | Valid Loss    0.075 \n",
      "-----------------------------------------------------------\n",
      "| epoch   4 |    50/  211 batches | accuracy    0.980\n",
      "| epoch   4 |   100/  211 batches | accuracy    0.979\n",
      "| epoch   4 |   150/  211 batches | accuracy    0.978\n",
      "| epoch   4 |   200/  211 batches | accuracy    0.981\n",
      "-----------------------------------------------------------\n",
      "| End of epoch   4 | Time: 42.14s | Train Accuracy    0.981 | Train Loss   0.066 | Valid Accuracy    0.980 | Valid Loss    0.063 \n",
      "-----------------------------------------------------------\n",
      "| epoch   5 |    50/  211 batches | accuracy    0.983\n",
      "| epoch   5 |   100/  211 batches | accuracy    0.983\n",
      "| epoch   5 |   150/  211 batches | accuracy    0.980\n",
      "| epoch   5 |   200/  211 batches | accuracy    0.985\n",
      "-----------------------------------------------------------\n",
      "| End of epoch   5 | Time: 41.10s | Train Accuracy    0.981 | Train Loss   0.057 | Valid Accuracy    0.981 | Valid Loss    0.064 \n",
      "-----------------------------------------------------------\n",
      "| epoch   6 |    50/  211 batches | accuracy    0.985\n",
      "| epoch   6 |   100/  211 batches | accuracy    0.983\n",
      "| epoch   6 |   150/  211 batches | accuracy    0.983\n",
      "| epoch   6 |   200/  211 batches | accuracy    0.985\n",
      "-----------------------------------------------------------\n",
      "| End of epoch   6 | Time: 41.46s | Train Accuracy    0.985 | Train Loss   0.050 | Valid Accuracy    0.979 | Valid Loss    0.063 \n",
      "-----------------------------------------------------------\n",
      "| epoch   7 |    50/  211 batches | accuracy    0.983\n",
      "| epoch   7 |   100/  211 batches | accuracy    0.987\n",
      "| epoch   7 |   150/  211 batches | accuracy    0.984\n",
      "| epoch   7 |   200/  211 batches | accuracy    0.987\n",
      "-----------------------------------------------------------\n",
      "| End of epoch   7 | Time: 45.68s | Train Accuracy    0.986 | Train Loss   0.047 | Valid Accuracy    0.982 | Valid Loss    0.058 \n",
      "-----------------------------------------------------------\n",
      "| epoch   8 |    50/  211 batches | accuracy    0.987\n",
      "| epoch   8 |   100/  211 batches | accuracy    0.986\n",
      "| epoch   8 |   150/  211 batches | accuracy    0.986\n",
      "| epoch   8 |   200/  211 batches | accuracy    0.985\n",
      "-----------------------------------------------------------\n",
      "| End of epoch   8 | Time: 41.04s | Train Accuracy    0.985 | Train Loss   0.043 | Valid Accuracy    0.985 | Valid Loss    0.053 \n",
      "-----------------------------------------------------------\n",
      "| epoch   9 |    50/  211 batches | accuracy    0.988\n",
      "| epoch   9 |   100/  211 batches | accuracy    0.987\n",
      "| epoch   9 |   150/  211 batches | accuracy    0.987\n",
      "| epoch   9 |   200/  211 batches | accuracy    0.987\n",
      "-----------------------------------------------------------\n",
      "| End of epoch   9 | Time: 40.07s | Train Accuracy    0.989 | Train Loss   0.039 | Valid Accuracy    0.982 | Valid Loss    0.057 \n",
      "-----------------------------------------------------------\n",
      "| epoch  10 |    50/  211 batches | accuracy    0.990\n",
      "| epoch  10 |   100/  211 batches | accuracy    0.989\n",
      "| epoch  10 |   150/  211 batches | accuracy    0.988\n",
      "| epoch  10 |   200/  211 batches | accuracy    0.988\n",
      "-----------------------------------------------------------\n",
      "| End of epoch  10 | Time: 40.73s | Train Accuracy    0.987 | Train Loss   0.037 | Valid Accuracy    0.984 | Valid Loss    0.057 \n",
      "-----------------------------------------------------------\n"
     ]
    }
   ],
   "source": [
    "num_classes = len(train_data.dataset.classes)\n",
    "\n",
    "device = torch.device('cuda' if torch.cuda.is_available () else 'cpu')\n",
    "\n",
    "lenet_model = LeNetClassifier(num_classes)\n",
    "lenet_model.to(device)\n",
    "\n",
    "criterion = torch.nn.CrossEntropyLoss ()\n",
    "optimizer = optim.Adam(lenet_model.parameters ())\n",
    "\n",
    "num_epochs = 10\n",
    "save_model = './model'\n",
    "\n",
    "train_accs , train_losses = [], []\n",
    "eval_accs , eval_losses = [], []\n",
    "best_loss_eval = 100\n",
    "\n",
    "for epoch in range(1, num_epochs +1):\n",
    "    epoch_start_time = time.time()\n",
    "    # Training\n",
    "    train_acc , train_loss = train(lenet_model , optimizer , criterion , train_dataloader ,device , epoch)\n",
    "    train_accs.append(train_acc)\n",
    "    train_losses.append(train_loss)\n",
    "\n",
    "    # Evaluation\n",
    "    eval_acc , eval_loss = evaluate(lenet_model , criterion , valid_dataloader)\n",
    "    eval_accs.append(eval_acc)\n",
    "    eval_losses.append(eval_loss)\n",
    "\n",
    "    # Save best model\n",
    "    if eval_loss < best_loss_eval:\n",
    "        torch.save(lenet_model.state_dict (), save_model + '/lenet_model.pt')\n",
    "\n",
    "    # Print loss , acc end epoch\n",
    "    print(\"-\" * 59)\n",
    "    print(\n",
    "        \"| End of epoch {:3d} | Time: {:5.2f}s | Train Accuracy {:8.3f} | Train Loss{:8.3f} \"\n",
    "        \"| Valid Accuracy {:8.3f} | Valid Loss {:8.3f} \".format(\n",
    "            epoch , time.time() - epoch_start_time , train_acc , train_loss , eval_acc ,eval_loss\n",
    "        )\n",
    "    )\n",
    "    print(\"-\" * 59)\n",
    "\n",
    "    # Load best model\n",
    "    lenet_model.load_state_dict(torch.load(save_model + '/lenet_model.pt'))\n",
    "    lenet_model.eval()"
   ]
  },
  {
   "cell_type": "markdown",
   "metadata": {},
   "source": [
    "ĐÁNH GIÁ MÔ HÌNH TRÊN TẬP TEST"
   ]
  },
  {
   "cell_type": "code",
   "execution_count": 13,
   "metadata": {},
   "outputs": [
    {
     "data": {
      "text/plain": [
       "(0.987, 0.0409856882857639)"
      ]
     },
     "execution_count": 13,
     "metadata": {},
     "output_type": "execute_result"
    }
   ],
   "source": [
    "test_data.transform = test_transforms\n",
    "test_dataloader = data.DataLoader(\n",
    "test_data ,\n",
    "batch_size=BATCH_SIZE\n",
    ")\n",
    "test_acc , test_loss = evaluate(lenet_model , criterion , test_dataloader)\n",
    "test_acc , test_loss"
   ]
  },
  {
   "cell_type": "markdown",
   "metadata": {},
   "source": [
    "TRIỂN KHAI MÔ HÌNH"
   ]
  },
  {
   "cell_type": "markdown",
   "metadata": {},
   "source": [
    "Dựa trên mô hình đã huấn luyện và thư viện streamlit để triển khai ứng dụng:\n",
    "1. Link Streamlit\n",
    "2. Github\n",
    "3. Giao diện:\n"
   ]
  },
  {
   "cell_type": "code",
   "execution_count": null,
   "metadata": {},
   "outputs": [],
   "source": []
  },
  {
   "cell_type": "code",
   "execution_count": null,
   "metadata": {},
   "outputs": [],
   "source": []
  },
  {
   "cell_type": "code",
   "execution_count": null,
   "metadata": {},
   "outputs": [],
   "source": []
  },
  {
   "cell_type": "code",
   "execution_count": null,
   "metadata": {},
   "outputs": [],
   "source": []
  },
  {
   "cell_type": "code",
   "execution_count": null,
   "metadata": {},
   "outputs": [],
   "source": []
  }
 ],
 "metadata": {
  "kernelspec": {
   "display_name": "Python 3",
   "language": "python",
   "name": "python3"
  },
  "language_info": {
   "codemirror_mode": {
    "name": "ipython",
    "version": 3
   },
   "file_extension": ".py",
   "mimetype": "text/x-python",
   "name": "python",
   "nbconvert_exporter": "python",
   "pygments_lexer": "ipython3",
   "version": "3.12.4"
  }
 },
 "nbformat": 4,
 "nbformat_minor": 2
}
