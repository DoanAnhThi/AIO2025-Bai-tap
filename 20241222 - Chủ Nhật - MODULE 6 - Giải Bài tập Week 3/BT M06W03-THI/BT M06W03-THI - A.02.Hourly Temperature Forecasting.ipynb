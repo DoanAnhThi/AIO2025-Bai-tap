{
 "cells": [
  {
   "cell_type": "markdown",
   "metadata": {},
   "source": [
    "1. Import các thư viện cần thiết:"
   ]
  },
  {
   "cell_type": "code",
   "execution_count": null,
   "metadata": {},
   "outputs": [],
   "source": [
    "import torch\n",
    "import torch.nn as nn\n",
    "\n",
    "seed = 1\n",
    "torch.manual_seed(seed)\n",
    "\n",
    "import numpy as np\n",
    "import pandas as pd\n",
    "import matplotlib.pyplot as plt\n",
    "\n",
    "from torch.utils.data import Dataset , DataLoader"
   ]
  },
  {
   "cell_type": "markdown",
   "metadata": {},
   "source": [
    "2. Tải bộ dữ liệu: Các bạn tải bộ dữ liệu tại đây. Dưới đây là thông tin 4 hàng đầu tiên của\n",
    "bảng dữ liệu:"
   ]
  },
  {
   "cell_type": "markdown",
   "metadata": {},
   "source": [
    "3. Chuẩn bị dữ liệu:"
   ]
  },
  {
   "cell_type": "markdown",
   "metadata": {},
   "source": [
    "(a) Đọc dữ liệu từ file .csv:"
   ]
  },
  {
   "cell_type": "code",
   "execution_count": null,
   "metadata": {},
   "outputs": [],
   "source": [
    "dataset_filepath = 'dataset/weatherHistory.csv'\n",
    "df = pd.read_csv(dataset_filepath)"
   ]
  },
  {
   "cell_type": "markdown",
   "metadata": {},
   "source": [
    "Trong bài tập lần này, vì mô hình chỉ dự đoán nhiệt độ (Temperature (C)) nên ta sẽ loại\n",
    "bỏ đi các cột không cần thiết trong DataFrame trước khi đưa vào tiền xử lý:"
   ]
  },
  {
   "cell_type": "code",
   "execution_count": null,
   "metadata": {},
   "outputs": [],
   "source": [
    "univariate_df = df['Temperature (C)']\n",
    "univariate_df.index = df['Formatted Date']"
   ]
  },
  {
   "cell_type": "markdown",
   "metadata": {},
   "source": [
    "(b) Xây dựng hàm tạo cặp X, y:"
   ]
  },
  {
   "cell_type": "code",
   "execution_count": null,
   "metadata": {},
   "outputs": [],
   "source": [
    "input_size = 6\n",
    "label_size = 1\n",
    "offset = 1\n",
    "\n",
    "def slicing_window(df , df_start_idx , df_end_idx , input_size , label_size ,offset):\n",
    "features = []\n",
    "labels = []\n",
    "\n",
    "window_size = input_size + offset\n",
    "\n",
    "if df_end_idx == None:\n",
    "df_end_idx = len(df) - window_size\n",
    "\n",
    "for idx in range(df_start_idx , df_end_idx):\n",
    "feature_end_idx = idx + input_size\n",
    "label_start_idx = idx + window_size - label_size\n",
    "\n",
    "feature = df[idx:feature_end_idx]\n",
    "label = df[label_start_idx :(idx+window_size)]\n",
    "\n",
    "features.append(feature)\n",
    "labels.append(label)\n",
    "\n",
    "features = np.expand_dims(np.array(features), -1)\n",
    "labels = np.array(labels)\n",
    "\n",
    "return features , labels"
   ]
  },
  {
   "cell_type": "markdown",
   "metadata": {},
   "source": [
    "4. Chia bộ dữ liệu train, val, test: Sử dụng hàm slicing_window() đã định nghĩa ở trên, ta\n",
    "tiến hành chia ba bộ dữ liệu train, val, test như sau:"
   ]
  },
  {
   "cell_type": "code",
   "execution_count": null,
   "metadata": {},
   "outputs": [],
   "source": [
    "dataset_length = len(univariate_df)\n",
    "train_size = 0.7\n",
    "val_size = 0.2\n",
    "train_end_idx = int(train_size * dataset_length)\n",
    "val_end_idx = int(val_size * dataset_length) + train_end_idx\n",
    "\n",
    "X_train , y_train = slicing_window(\n",
    "univariate_df ,\n",
    "df_start_idx =0,\n",
    "df_end_idx=train_end_idx ,\n",
    "input_size=input_size ,\n",
    "label_size=label_size ,\n",
    "offset=offset\n",
    ")\n",
    "\n",
    "X_val , y_val = slicing_window(\n",
    "univariate_df ,\n",
    "df_start_idx=train_end_idx ,\n",
    "df_end_idx=val_end_idx ,\n",
    "input_size=input_size ,\n",
    "label_size=label_size ,\n",
    "offset=offset\n",
    ")\n",
    "\n",
    "X_test , y_test = slicing_window(\n",
    "univariate_df ,\n",
    "df_start_idx=val_end_idx ,\n",
    "df_end_idx=None ,\n",
    "input_size=input_size ,\n",
    "label_size=label_size ,\n",
    "offset=offset\n",
    ")"
   ]
  },
  {
   "cell_type": "markdown",
   "metadata": {},
   "source": [
    "5. Xây dựng pytorch datasets:"
   ]
  },
  {
   "cell_type": "code",
   "execution_count": null,
   "metadata": {},
   "outputs": [],
   "source": [
    "class WeatherForecast(Dataset):\n",
    "    def __init__(\n",
    "self ,\n",
    "X, y,\n",
    "transform=None\n",
    "):\n",
    "self.X = X\n",
    "self.y = y\n",
    "self.transform = transform\n",
    "\n",
    "def __len__(self):\n",
    "return len(self.X)\n",
    "\n",
    "def __getitem__(self , idx):\n",
    "X = self.X[idx]\n",
    "y = self.y[idx]\n",
    "\n",
    "if self.transform:\n",
    "X = self.transform(X)\n",
    "\n",
    "X = torch.tensor(X, dtype=torch.float32)\n",
    "y = torch.tensor(y, dtype=torch.float32)\n",
    "\n",
    "return X, y"
   ]
  },
  {
   "cell_type": "markdown",
   "metadata": {},
   "source": [
    "6. Khai báo dataloader:"
   ]
  },
  {
   "cell_type": "code",
   "execution_count": null,
   "metadata": {},
   "outputs": [],
   "source": [
    "train_dataset = WeatherForecast(\n",
    "X_train , y_train\n",
    ")\n",
    "val_dataset = WeatherForecast(\n",
    "X_val , y_val\n",
    ")\n",
    "test_dataset = WeatherForecast(\n",
    "X_test , y_test\n",
    ")\n",
    "\n",
    "train_batch_size = 128\n",
    "test_batch_size = 8\n",
    "\n",
    "train_loader = DataLoader(\n",
    "train_dataset ,\n",
    "batch_size=train_batch_size ,\n",
    "shuffle=True\n",
    ")\n",
    "val_loader = DataLoader(\n",
    "val_dataset ,\n",
    "batch_size=test_batch_size ,\n",
    "shuffle=False\n",
    ")\n",
    "test_loader = DataLoader(\n",
    "test_dataset ,\n",
    "batch_size=test_batch_size ,\n",
    "shuffle=False\n",
    ")"
   ]
  },
  {
   "cell_type": "markdown",
   "metadata": {},
   "source": [
    "7. Xây dựng mô hình: "
   ]
  },
  {
   "cell_type": "code",
   "execution_count": null,
   "metadata": {},
   "outputs": [],
   "source": [
    "class WeatherForecastor(nn.Module):\n",
    "def __init__(\n",
    "self , embedding_dim , hidden_size ,\n",
    "n_layers , dropout_prob\n",
    "):\n",
    "super(WeatherForecastor , self).__init__ ()\n",
    "self.rnn = nn.RNN(embedding_dim , hidden_size , n_layers , batch_first=True)\n",
    "self.norm = nn.LayerNorm(hidden_size)\n",
    "\n",
    "self.dropout = nn.Dropout(dropout_prob)\n",
    "self.fc = nn.Linear(hidden_size , 1)\n",
    "\n",
    "def forward(self , x):\n",
    "x, hn = self.rnn(x)\n",
    "x = x[:, -1, :]\n",
    "x = self.norm(x)\n",
    "x = self.dropout(x)\n",
    "x = self.fc(x)\n",
    "\n",
    "return x"
   ]
  },
  {
   "cell_type": "markdown",
   "metadata": {},
   "source": [
    "Sử dụng class đã định nghĩa ở trên, ta khai báo mô hình WeatherForecastor như sau:"
   ]
  },
  {
   "cell_type": "code",
   "execution_count": null,
   "metadata": {},
   "outputs": [],
   "source": [
    "embedding_dim = 1\n",
    "hidden_size = 8\n",
    "n_layers = 3\n",
    "dropout_prob = 0.2\n",
    "device = 'cuda' if torch.cuda.is_available () else 'cpu'\n",
    "\n",
    "model = WeatherForecastor(\n",
    "embedding_dim=embedding_dim ,\n",
    "hidden_size=hidden_size ,\n",
    "n_layers=n_layers ,\n",
    "dropout_prob=dropout_prob\n",
    ").to(device)"
   ]
  },
  {
   "cell_type": "markdown",
   "metadata": {},
   "source": [
    "8. Cài đặt hàm loss và optimizer: Vì bài toán dự đoán nhiệt độ thời tiết này dưới dạng là\n",
    "bài Regression, ta sẽ sử dụng hàm loss là MSE và optimizer là Adam."
   ]
  },
  {
   "cell_type": "code",
   "execution_count": null,
   "metadata": {},
   "outputs": [],
   "source": [
    "lr = 1e-3\n",
    "epochs = 50\n",
    "\n",
    "criterion = nn.MSELoss ()\n",
    "optimizer = torch.optim.Adam(\n",
    "model.parameters (),\n",
    "lr=lr\n",
    ")"
   ]
  },
  {
   "cell_type": "markdown",
   "metadata": {},
   "source": [
    "9. Thực hiện huấn luyện mô hình:"
   ]
  },
  {
   "cell_type": "code",
   "execution_count": null,
   "metadata": {},
   "outputs": [],
   "source": [
    "train_losses , val_losses = fit(\n",
    "model ,\n",
    "train_loader ,\n",
    "val_loader ,\n",
    "criterion ,\n",
    "optimizer ,\n",
    "device ,\n",
    "epochs\n",
    ")"
   ]
  },
  {
   "cell_type": "markdown",
   "metadata": {},
   "source": [
    "10. Đánh giá mô hình:"
   ]
  },
  {
   "cell_type": "code",
   "execution_count": null,
   "metadata": {},
   "outputs": [],
   "source": [
    "val_loss = evaluate(\n",
    "model ,\n",
    "val_loader ,\n",
    "criterion ,\n",
    "device\n",
    ")\n",
    "test_loss = evaluate(\n",
    "model ,\n",
    "test_loader ,\n",
    "criterion ,\n",
    "device\n",
    ")\n",
    "\n",
    "print('Evaluation on val/test dataset ')\n",
    "print('Val loss: ', val_loss)\n",
    "print('Test loss: ', test_loss)"
   ]
  },
  {
   "cell_type": "markdown",
   "metadata": {},
   "source": [
    "Bên cạnh đó, đối với bài toán time series, ta cũng có thể plot dự đoán của mô hình so với\n",
    "dữ liệu thực tế tromg một khoảng thời gian như sau:"
   ]
  },
  {
   "cell_type": "code",
   "execution_count": null,
   "metadata": {},
   "outputs": [],
   "source": [
    "def plot_difference(y, pred):\n",
    "plt.figure(figsize =(20, 6))\n",
    "times = range(len(y))\n",
    "y_to_plot = y.flatten ()\n",
    "pred_to_plot = pred.flatten ()\n",
    "\n",
    "plt.plot(times , y_to_plot , color='steelblue ', marker='o', label='Truevalue')\n",
    "plt.plot(times , pred_to_plot , color='orangered ', marker='X', label='Prediction ')\n",
    "\n",
    "plt.title('Temperature in every hours')\n",
    "plt.xlabel('Hour')\n",
    "plt.ylabel('Temperature (C)')\n",
    "plt.legend ()\n",
    "plt.show()\n",
    "\n",
    "inputs = torch.tensor(X_test [:100] , dtype=torch.float32).to(device)\n",
    "model.eval()\n",
    "with torch.no_grad ():\n",
    "outputs = model(inputs).detach ().cpu().numpy ()\n",
    "plot_difference(y_test [:100] , outputs)"
   ]
  },
  {
   "cell_type": "markdown",
   "metadata": {},
   "source": [
    "Triển khai mô hình: Dựa trên mô hình đã huấn luyện và thư viện streamlit để triển khai ứng\n",
    "dụng:<br>\n",
    "– Link Streamlit<br>\n",
    "– Github<br>\n",
    "– Giao Diện<br>"
   ]
  },
  {
   "cell_type": "code",
   "execution_count": null,
   "metadata": {},
   "outputs": [],
   "source": []
  },
  {
   "cell_type": "code",
   "execution_count": null,
   "metadata": {},
   "outputs": [],
   "source": []
  }
 ],
 "metadata": {
  "kernelspec": {
   "display_name": "Python 3",
   "language": "python",
   "name": "python3"
  },
  "language_info": {
   "name": "python",
   "version": "3.12.8"
  }
 },
 "nbformat": 4,
 "nbformat_minor": 2
}
